{
 "cells": [
  {
   "cell_type": "code",
   "execution_count": 51,
   "id": "1545ee59-029a-4ff1-b5ae-b45a64fdd703",
   "metadata": {},
   "outputs": [],
   "source": [
    "import csv\n",
    "from pathlib import Path\n",
    "csvpath = Path(\"budget_data.csv\")"
   ]
  },
  {
   "cell_type": "code",
   "execution_count": 64,
   "id": "3855c97c-4c95-4db7-a1f5-c23586b89f2a",
   "metadata": {},
   "outputs": [],
   "source": [
    "months = []\n",
    "total_prof = 0\n",
    "prev_value= 0\n",
    "change = []\n",
    "# avg_change = [] #probably not needed\n",
    "date_change = []\n",
    "g_dec_prof = []"
   ]
  },
  {
   "cell_type": "code",
   "execution_count": 66,
   "id": "7dd0c778-f720-41f2-aae8-7c3047608c84",
   "metadata": {},
   "outputs": [],
   "source": [
    "#entry_id = input(\"Enter desired month from log\") #not needed\n",
    "with open (csvpath, mode='r') as csvfile:\n",
    "    \n",
    "    csvreader = csv.reader(csvfile, delimiter=\",\")\n",
    "    csv_header = next(csvreader)\n",
    "    for row in csvreader:\n",
    "        \n",
    "        months.append(row)\n",
    "        \n",
    "        if prev_value ==0:\n",
    "            prev_value = int(row[1])\n",
    "        else:\n",
    "            this_change = int(row[1]) - int(prev_value)\n",
    "            change.append(this_change)\n",
    "            date_change.append([row[0],this_change])\n",
    "            total_prof += int(row[1])\n",
    "            prev_value = int(row[1])\n",
    "            \n",
    "             \n",
    "        \n",
    "            "
   ]
  },
  {
   "cell_type": "code",
   "execution_count": 67,
   "id": "18c67884-4302-4044-8478-beb70a422b7a",
   "metadata": {},
   "outputs": [
    {
     "data": {
      "text/plain": [
       "86"
      ]
     },
     "execution_count": 67,
     "metadata": {},
     "output_type": "execute_result"
    }
   ],
   "source": [
    "len(months)"
   ]
  },
  {
   "cell_type": "code",
   "execution_count": 68,
   "id": "3f626250-b97b-4ab8-a54d-83bc9b7ff111",
   "metadata": {},
   "outputs": [
    {
     "name": "stdout",
     "output_type": "stream",
     "text": [
      "[116771, -662642, -391430, 379920, 212354, 510239, -428211, -821271, 693918, 416278, -974163, 860159, -1115009, 1033048, 95318, -308093, 99052, -521393, 605450, 231727, -65187, -702716, 177975, -1065544, 1926159, -917805, 898730, -334262, -246499, -64055, -1529236, 1497596, 304914, -635801, 398319, -183161, -37864, -253689, 403655, 94168, 306877, -83000, 210462, -2196167, 1465222, -956983, 1838447, -468003, -64602, 206242, -242155, -449079, 315198, 241099, 111540, 365942, -219310, -368665, 409837, 151210, -110244, -341938, -1212159, 683246, -70825, 335594, 417334, -272194, -236462, 657432, -211262, -128237, -1750387, 925441, 932089, -311434, 267252, -1876758, 1733696, 198551, -665765, 693229, -734926, 77242, 532869]\n"
     ]
    }
   ],
   "source": [
    "print(change)"
   ]
  },
  {
   "cell_type": "code",
   "execution_count": 69,
   "id": "e74f110f-837d-4e57-a3f1-48f67ed93d47",
   "metadata": {},
   "outputs": [],
   "source": [
    "avg_change = sum(change) / len(months)"
   ]
  },
  {
   "cell_type": "code",
   "execution_count": 70,
   "id": "50ee5ed0-5f76-40c8-8206-e99e86607e09",
   "metadata": {},
   "outputs": [
    {
     "data": {
      "text/plain": [
       "-2288.1976744186045"
      ]
     },
     "execution_count": 70,
     "metadata": {},
     "output_type": "execute_result"
    }
   ],
   "source": [
    "avg_change"
   ]
  },
  {
   "cell_type": "code",
   "execution_count": 85,
   "id": "378ddbb5-4c5a-490d-a9a8-a15a2abd883c",
   "metadata": {},
   "outputs": [
    {
     "name": "stdout",
     "output_type": "stream",
     "text": [
      "-2288.2\n"
     ]
    }
   ],
   "source": [
    "round_avg_change = round(avg_change, 2)\n",
    "print(round_avg_change)"
   ]
  },
  {
   "cell_type": "code",
   "execution_count": 71,
   "id": "c44c79ab-1a30-4e07-9330-c07b869d4a78",
   "metadata": {},
   "outputs": [
    {
     "data": {
      "text/plain": [
       "37514694"
      ]
     },
     "execution_count": 71,
     "metadata": {},
     "output_type": "execute_result"
    }
   ],
   "source": [
    "total_prof"
   ]
  },
  {
   "cell_type": "code",
   "execution_count": 72,
   "id": "53d42a97-7840-423f-b7ed-90f85e77abf5",
   "metadata": {},
   "outputs": [
    {
     "data": {
      "text/plain": [
       "1926159"
      ]
     },
     "execution_count": 72,
     "metadata": {},
     "output_type": "execute_result"
    }
   ],
   "source": [
    "max(change)"
   ]
  },
  {
   "cell_type": "code",
   "execution_count": 73,
   "id": "88214539-0074-44c6-91cb-2302c8c60933",
   "metadata": {},
   "outputs": [
    {
     "data": {
      "text/plain": [
       "-2196167"
      ]
     },
     "execution_count": 73,
     "metadata": {},
     "output_type": "execute_result"
    }
   ],
   "source": [
    "min(change)"
   ]
  },
  {
   "cell_type": "code",
   "execution_count": 74,
   "id": "0704be16-1c51-406b-9192-793cdb90ba0a",
   "metadata": {},
   "outputs": [
    {
     "data": {
      "text/plain": [
       "[['Feb-2010', 116771],\n",
       " ['Mar-2010', -662642],\n",
       " ['Apr-2010', -391430],\n",
       " ['May-2010', 379920],\n",
       " ['Jun-2010', 212354],\n",
       " ['Jul-2010', 510239],\n",
       " ['Aug-2010', -428211],\n",
       " ['Sep-2010', -821271],\n",
       " ['Oct-2010', 693918],\n",
       " ['Nov-2010', 416278],\n",
       " ['Dec-2010', -974163],\n",
       " ['Jan-2011', 860159],\n",
       " ['Feb-2011', -1115009],\n",
       " ['Mar-2011', 1033048],\n",
       " ['Apr-2011', 95318],\n",
       " ['May-2011', -308093],\n",
       " ['Jun-2011', 99052],\n",
       " ['Jul-2011', -521393],\n",
       " ['Aug-2011', 605450],\n",
       " ['Sep-2011', 231727],\n",
       " ['Oct-2011', -65187],\n",
       " ['Nov-2011', -702716],\n",
       " ['Dec-2011', 177975],\n",
       " ['Jan-2012', -1065544],\n",
       " ['Feb-2012', 1926159],\n",
       " ['Mar-2012', -917805],\n",
       " ['Apr-2012', 898730],\n",
       " ['May-2012', -334262],\n",
       " ['Jun-2012', -246499],\n",
       " ['Jul-2012', -64055],\n",
       " ['Aug-2012', -1529236],\n",
       " ['Sep-2012', 1497596],\n",
       " ['Oct-2012', 304914],\n",
       " ['Nov-2012', -635801],\n",
       " ['Dec-2012', 398319],\n",
       " ['Jan-2013', -183161],\n",
       " ['Feb-2013', -37864],\n",
       " ['Mar-2013', -253689],\n",
       " ['Apr-2013', 403655],\n",
       " ['May-2013', 94168],\n",
       " ['Jun-2013', 306877],\n",
       " ['Jul-2013', -83000],\n",
       " ['Aug-2013', 210462],\n",
       " ['Sep-2013', -2196167],\n",
       " ['Oct-2013', 1465222],\n",
       " ['Nov-2013', -956983],\n",
       " ['Dec-2013', 1838447],\n",
       " ['Jan-2014', -468003],\n",
       " ['Feb-2014', -64602],\n",
       " ['Mar-2014', 206242],\n",
       " ['Apr-2014', -242155],\n",
       " ['May-2014', -449079],\n",
       " ['Jun-2014', 315198],\n",
       " ['Jul-2014', 241099],\n",
       " ['Aug-2014', 111540],\n",
       " ['Sep-2014', 365942],\n",
       " ['Oct-2014', -219310],\n",
       " ['Nov-2014', -368665],\n",
       " ['Dec-2014', 409837],\n",
       " ['Jan-2015', 151210],\n",
       " ['Feb-2015', -110244],\n",
       " ['Mar-2015', -341938],\n",
       " ['Apr-2015', -1212159],\n",
       " ['May-2015', 683246],\n",
       " ['Jun-2015', -70825],\n",
       " ['Jul-2015', 335594],\n",
       " ['Aug-2015', 417334],\n",
       " ['Sep-2015', -272194],\n",
       " ['Oct-2015', -236462],\n",
       " ['Nov-2015', 657432],\n",
       " ['Dec-2015', -211262],\n",
       " ['Jan-2016', -128237],\n",
       " ['Feb-2016', -1750387],\n",
       " ['Mar-2016', 925441],\n",
       " ['Apr-2016', 932089],\n",
       " ['May-2016', -311434],\n",
       " ['Jun-2016', 267252],\n",
       " ['Jul-2016', -1876758],\n",
       " ['Aug-2016', 1733696],\n",
       " ['Sep-2016', 198551],\n",
       " ['Oct-2016', -665765],\n",
       " ['Nov-2016', 693229],\n",
       " ['Dec-2016', -734926],\n",
       " ['Jan-2017', 77242],\n",
       " ['Feb-2017', 532869]]"
      ]
     },
     "execution_count": 74,
     "metadata": {},
     "output_type": "execute_result"
    }
   ],
   "source": [
    "date_change"
   ]
  },
  {
   "cell_type": "code",
   "execution_count": 81,
   "id": "406b34e9-f604-4a6e-a35d-e1e9686de14b",
   "metadata": {},
   "outputs": [],
   "source": [
    "max_val = 0\n",
    "max_date= 0\n",
    "min_val = 0\n",
    "min_date = 0\n",
    "\n",
    "for i in date_change:\n",
    "    if i[1]> max_val:\n",
    "        max_val = i[1]\n",
    "        max_date = i[0]\n",
    "\n",
    "for i in date_change:\n",
    "    if i[1]< min_val:\n",
    "        min_val = i[1]\n",
    "        min_date = i[0]\n",
    "    \n",
    "   "
   ]
  },
  {
   "cell_type": "code",
   "execution_count": 80,
   "id": "b2bdde16-9c64-4b08-8cc0-559e7b9fdedf",
   "metadata": {},
   "outputs": [
    {
     "name": "stdout",
     "output_type": "stream",
     "text": [
      "1926159Feb-2012\n"
     ]
    }
   ],
   "source": [
    "print(f\"{max_val}{max_date}\")"
   ]
  },
  {
   "cell_type": "code",
   "execution_count": 82,
   "id": "743875a8-7774-4c58-b697-56ee851fdbd7",
   "metadata": {},
   "outputs": [
    {
     "name": "stdout",
     "output_type": "stream",
     "text": [
      "-2196167Sep-2013\n"
     ]
    }
   ],
   "source": [
    "print(f\"{min_val}{min_date}\")"
   ]
  },
  {
   "cell_type": "code",
   "execution_count": 86,
   "id": "3ff93525-a7f8-4792-ae61-fa9f51becb1d",
   "metadata": {},
   "outputs": [],
   "source": [
    "out_path = Path(\"PyBankHW.txt\")\n",
    "with open(out_path, \"w\") as txt_file:\n",
    "    txt_file.write(\"__________Financial Analysis__________\\n\")\n",
    "    txt_file.write(f\" Total Months: {len(months)} \\n\")\n",
    "    txt_file.write(f\" Total Profit: {total_prof} \\n\")\n",
    "    txt_file.write(f\" Average Change: {round_avg_change} \\n\")\n",
    "    txt_file.write(f\" Greatest Increase in Profits: {max_date} @ {max_val} \\n\")\n",
    "    txt_file.write(f\" Greatest Decrease in Profits: {min_date} @ {min_val}\")"
   ]
  },
  {
   "cell_type": "code",
   "execution_count": null,
   "id": "1b578f65-e284-4407-b0e5-95f2e609863a",
   "metadata": {},
   "outputs": [],
   "source": []
  }
 ],
 "metadata": {
  "kernelspec": {
   "display_name": "Python 3",
   "language": "python",
   "name": "python3"
  },
  "language_info": {
   "codemirror_mode": {
    "name": "ipython",
    "version": 3
   },
   "file_extension": ".py",
   "mimetype": "text/x-python",
   "name": "python",
   "nbconvert_exporter": "python",
   "pygments_lexer": "ipython3",
   "version": "3.7.10"
  }
 },
 "nbformat": 4,
 "nbformat_minor": 5
}
